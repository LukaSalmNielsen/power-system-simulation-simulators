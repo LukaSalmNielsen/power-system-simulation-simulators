{
 "cells": [
  {
   "cell_type": "code",
   "execution_count": 6,
   "metadata": {},
   "outputs": [
    {
     "data": {
      "text/plain": [
       "array([[( 8, -128,   97627.00785465, -470888.77579075),\n",
       "        ( 9, -128,  430378.73274484,  548467.37886843),\n",
       "        (10, -128,  205526.75214329,  -87699.3355669 )],\n",
       "       [( 8, -128,   89766.36599379,  136867.8977373 ),\n",
       "        ( 9, -128, -152690.40132219, -962420.39912729),\n",
       "        (10, -128,  291788.22613331,  235270.99415175)],\n",
       "       [( 8, -128, -124825.57747461,  224191.44544484),\n",
       "        ( 9, -128,  783546.00156416,  233867.99374951),\n",
       "        (10, -128,  927325.52100206,  887496.15702925)],\n",
       "       [( 8, -128, -233116.96234844,  363640.59820697),\n",
       "        ( 9, -128,  583450.07616533, -280984.19885243),\n",
       "        (10, -128,   57789.83950581, -125936.09240132)],\n",
       "       [( 8, -128,  136089.12218786,  395262.39185453),\n",
       "        ( 9, -128,  851193.27658532, -879549.05674146),\n",
       "        (10, -128, -857927.88360423,  333533.43089134)],\n",
       "       [( 8, -128, -825741.40059692,  341275.73923632),\n",
       "        ( 9, -128, -959563.20511935, -579234.87785232),\n",
       "        (10, -128,  665239.69109588, -742147.40469029)],\n",
       "       [( 8, -128,  556313.5018997 , -369143.29815163),\n",
       "        ( 9, -128,  740024.29649364, -272578.45811475),\n",
       "        (10, -128,  957236.68446553,  140393.54083576)],\n",
       "       [( 8, -128,  598317.12843345, -122796.97307536),\n",
       "        ( 9, -128,  -77041.27549414,  976747.67611845),\n",
       "        (10, -128,  561058.35257291, -795910.37850394)],\n",
       "       [( 8, -128, -763451.14826213, -582246.48781033),\n",
       "        ( 9, -128,  279842.04265505, -677380.96423001),\n",
       "        (10, -128, -713293.42518191,  306216.6509308 )],\n",
       "       [( 8, -128,  889337.83409917, -493416.79492044),\n",
       "        ( 9, -128,   43696.64350014,  -67378.45428739),\n",
       "        (10, -128, -170676.12001895, -511148.81599679)]],\n",
       "      dtype={'names': ['id', 'status', 'p_specified', 'q_specified'], 'formats': ['<i4', 'i1', '<f8', '<f8'], 'offsets': [0, 4, 8, 16], 'itemsize': 24, 'aligned': True})"
      ]
     },
     "metadata": {},
     "output_type": "display_data"
    }
   ],
   "source": [
    "import json\n",
    "import time\n",
    "from typing import Dict\n",
    "\n",
    "import numpy as np\n",
    "import pandas as pd\n",
    "from power_grid_model import CalculationMethod, CalculationType, PowerGridModel, initialize_array\n",
    "from power_grid_model.utils import json_deserialize, json_serialize\n",
    "from power_grid_model.validation import assert_valid_batch_data, assert_valid_input_data\n",
    "\n",
    "with open(\"data/input/input_network_data.json\") as fp:\n",
    "    input_data = json_deserialize(fp.read())\n",
    "assert_valid_input_data(input_data=input_data, calculation_type=CalculationType.power_flow)\n",
    "model = PowerGridModel(input_data=input_data)\n",
    "\n",
    "active_power_profile = pd.read_parquet(\"data/input/active_power_profile.parquet\")\n",
    "reactive_power_profile = pd.read_parquet(\"data/input/reactive_power_profile.parquet\")\n",
    "\n",
    "# Create a PGM batch update dataset with the active and reactive load profiles.\n",
    "\n",
    "load_profile = initialize_array(\"update\", \"sym_load\", (active_power_profile.shape))\n",
    "# active_power_profile.shape) gives a column too much\n",
    "load_profile[\"id\"] = active_power_profile.columns.to_numpy()\n",
    "load_profile[\"p_specified\"] = active_power_profile.to_numpy()\n",
    "load_profile[\"q_specified\"] = reactive_power_profile.to_numpy()\n",
    "update_data = {\"sym_load\": load_profile}\n",
    "display(load_profile)\n",
    "assert_valid_batch_data(input_data=input_data, update_data=update_data, calculation_type=CalculationType.power_flow)\n",
    "\n",
    "# Run Newton-Raphson power flow\n",
    "output_data = model.calculate_power_flow(update_data=update_data, calculation_method=CalculationMethod.newton_raphson)\n",
    "\n",
    "# Run linear power flow\n",
    "output_data_linear = model.calculate_power_flow(update_data=update_data, calculation_method=CalculationMethod.linear)"
   ]
  }
 ],
 "metadata": {
  "kernelspec": {
   "display_name": ".venv",
   "language": "python",
   "name": "python3"
  },
  "language_info": {
   "codemirror_mode": {
    "name": "ipython",
    "version": 3
   },
   "file_extension": ".py",
   "mimetype": "text/x-python",
   "name": "python",
   "nbconvert_exporter": "python",
   "pygments_lexer": "ipython3",
   "version": "3.12.3"
  }
 },
 "nbformat": 4,
 "nbformat_minor": 2
}
