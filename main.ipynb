{
 "cells": [
  {
   "cell_type": "code",
   "execution_count": 1,
   "metadata": {},
   "outputs": [
    {
     "name": "stdout",
     "output_type": "stream",
     "text": [
      "[1]\n"
     ]
    }
   ],
   "source": [
    "from src.power_system_simulation.power_system_simulation import power_system_simulation\n",
    "\n",
    "metadata = \"src\\\\data\\\\input\\\\new_test_data\\\\input\\\\meta_data.json\"\n",
    "input_network = \"src\\\\data\\\\input\\\\new_test_data\\\\input\\\\input_network_data.json\"\n",
    "active_power_profile = \"src\\\\data\\\\input\\\\new_test_data\\\\input\\\\active_power_profile.parquet\"\n",
    "reactive_power_profile = \"src\\\\data\\\\input\\\\new_test_data\\\\input\\\\reactive_power_profile.parquet\"\n",
    "ev_active_power_profile = \"src\\\\data\\\\input\\\\new_test_data\\\\input\\\\ev_active_power_profile.parquet\"\n",
    "\n",
    "power_system_simulation.__init__(input_network, metadata, active_power_profile, reactive_power_profile,ev_active_power_profile)"
   ]
  },
  {
   "cell_type": "code",
   "execution_count": null,
   "metadata": {},
   "outputs": [],
   "source": []
  }
 ],
 "metadata": {
  "kernelspec": {
   "display_name": ".venv",
   "language": "python",
   "name": "python3"
  },
  "language_info": {
   "codemirror_mode": {
    "name": "ipython",
    "version": 3
   },
   "file_extension": ".py",
   "mimetype": "text/x-python",
   "name": "python",
   "nbconvert_exporter": "python",
   "pygments_lexer": "ipython3",
   "version": "3.12.3"
  }
 },
 "nbformat": 4,
 "nbformat_minor": 2
}
