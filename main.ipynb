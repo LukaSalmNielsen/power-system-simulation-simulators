{
 "cells": [
  {
   "cell_type": "markdown",
   "metadata": {},
   "source": [
    "# Presentation Notebook for The **Simulators**\n",
    "\n",
    "The first step to using our package is to validate the contents.\n",
    "This function called **validate_power_system_simulation** will ensure that the input data is compatible with **all** of the functionalities of this package and throw an exception if it doesn't. \n",
    "\n",
    "All possible exceptions not included in the base **Power_Grid_model** package are:\n",
    "- TimestampsDoNotMatchError\n",
    "- LoadIdsDoNotMatchError\n",
    "- IDNotFoundError\n",
    "- InputLengthDoesNotMatchError\n",
    "- IDNotUniqueError\n",
    "- GraphNotFullyConnectedError\n",
    "- GraphCycleError\n",
    "- EdgeAlreadyDisabledError\n",
    "- TooManyTransformers\n",
    "- TooManySources\n",
    "- NotAllFeederIDsareValid\n",
    "- TransformerAndFeedersNotConnected\n",
    "- TooFewEVs\n",
    "  \n",
    "These exceptions each come with an explanation of the issue which is needed to ensure that none of the data will fail in the rest of the function. However the actual check may take a long time with larger input data sizes to potentially quite a long time."
   ]
  },
  {
   "cell_type": "markdown",
   "metadata": {},
   "source": [
    "First step to using this package will always be defining the location of the input files and data"
   ]
  },
  {
   "cell_type": "code",
   "execution_count": 81,
   "metadata": {},
   "outputs": [],
   "source": [
    "from pathlib import Path\n",
    "import pandas as pd\n",
    "\n",
    "from src.power_system_simulation.graph_processing import GraphProcessor\n",
    "from src.power_system_simulation import calculation_module as calc\n",
    "from src.power_system_simulation import validate_power_system_simulation as validate\n",
    "DATA_PATH = Path.cwd() / \"tests\" / \"data\" / \"Exception_test_data\"\n",
    "\n",
    "metadata = DATA_PATH / \"meta_data.json\"\n",
    "input_network = DATA_PATH / \"input_network_data.json\"\n",
    "active_power_profile = DATA_PATH / \"active_power_profile.parquet\"\n",
    "reactive_power_profile = DATA_PATH / \"reactive_power_profile.parquet\"\n",
    "ev_active_power_profile = DATA_PATH / \"ev_active_power_profile.parquet\""
   ]
  },
  {
   "cell_type": "markdown",
   "metadata": {},
   "source": [
    "Next The validate function is called which checks for all the possible errors visible in the top section"
   ]
  },
  {
   "cell_type": "code",
   "execution_count": 82,
   "metadata": {},
   "outputs": [
    {
     "data": {
      "text/plain": [
       "<src.power_system_simulation.validate_power_system_simulation.validate_power_system_simulation at 0x20a8deb3f50>"
      ]
     },
     "execution_count": 82,
     "metadata": {},
     "output_type": "execute_result"
    }
   ],
   "source": [
    "validate.validate_power_system_simulation(input_network, metadata, active_power_profile, reactive_power_profile,ev_active_power_profile)"
   ]
  },
  {
   "cell_type": "markdown",
   "metadata": {},
   "source": [
    "Next the various functions of the package include: \n",
    "- making a graph\n",
    "- visualizing a graph \n",
    "- finding a downstream vertice\n",
    "- finding alternative edges\n",
    "- Powergrid power calculations \n",
    "- finding an optimal tap position\n",
    "- EV penetration level \n",
    "- N-1 calculation"
   ]
  },
  {
   "cell_type": "markdown",
   "metadata": {},
   "source": [
    "## Making a graph\n",
    "- A class for processing undirected graphs.\n",
    "- This class provides functionality to initialize a graph, find downstream vertices of an edge, and identify alternative edges for ensuring graph connectivity.\n",
    "\n",
    "Attributes:\n",
    "- graph: A NetworkX graph representing the processed graph.\n",
    "\n",
    "Args:\n",
    "- vertex_ids (List[int]): List of vertex IDs.\n",
    "- edge_ids (List[int]): List of edge IDs.\n",
    "- edge_vertex_id_pairs (List[Tuple[int, int]]): List of tuples - - representing vertex pairs for each edge.\n",
    "- edge_enabled (List[bool]): List indicating whether each edge is - enabled (True) or disabled (False).\n",
    "- source_vertex_id (int): ID of the source vertex.\n",
    "\n",
    "Raises:\n",
    "- IDNotUniqueError: If there are duplicate vertex or edge IDs.\n",
    "- InputLengthDoesNotMatchError: If the length of edge_enabled does not match the input lists edge_ids.\n",
    "- IDNotFoundError: If a vertex ID present in edge_vertex_id_pairs does not exist in vertex_ids.\n",
    "- GraphNotFullyConnectedError: If the graph is not fully connected.\n",
    "- GraphCycleError: If the graph contains cycles.\n",
    "\n",
    "To demonstrate the functionality of the class, the grid can be created as follows:"
   ]
  },
  {
   "cell_type": "code",
   "execution_count": 83,
   "metadata": {},
   "outputs": [],
   "source": [
    "vertex_ids = [0, 2, 4, 6, 10]\n",
    "edge_ids = [1, 3, 5, 7, 8, 9]\n",
    "edge_vertex_id_pairs = [(0, 2), (0, 4), (0, 6), (2, 4), (4, 6), (2, 10)]\n",
    "edge_enabled = [True, True, True, False, False, True]\n",
    "source_vertex_id = 10\n",
    "\n",
    "grid = GraphProcessor(vertex_ids, edge_ids, edge_vertex_id_pairs, edge_enabled, source_vertex_id)"
   ]
  },
  {
   "cell_type": "markdown",
   "metadata": {},
   "source": [
    "## Visualizing a graph\n",
    "Here Carmelo's graph code\n",
    "Here some explaination\n",
    "\n",
    "Now, the graph can be visualized as follows:"
   ]
  },
  {
   "cell_type": "code",
   "execution_count": null,
   "metadata": {},
   "outputs": [],
   "source": []
  },
  {
   "cell_type": "markdown",
   "metadata": {},
   "source": [
    "## Finding a downstream vertice\n",
    " Args:\n",
    "- starting_edge_id (int): ID of the edge to find downstream vertices for.\n",
    "\n",
    "Returns:\n",
    "- List[int]: List of vertex IDs downstream from the specified edge.\n",
    "\n",
    "### Working Principle:\n",
    "- Verify that the edge ID exists\n",
    "- Check if the edge is already disabled, which would be \n",
    "- Get the vertices of the edge\n",
    "- Simulate the edge being disabled by temporarily removing it\n",
    "- Find all connected components after the removal\n",
    "- Restore the edge to maintain original graph state\n",
    "- Determine which component contains the source vertex\n",
    "- Return the nodes in the component that does not contain the source vertex\n"
   ]
  },
  {
   "cell_type": "code",
   "execution_count": 84,
   "metadata": {},
   "outputs": [
    {
     "data": {
      "text/plain": [
       "[0, 4, 6]"
      ]
     },
     "execution_count": 84,
     "metadata": {},
     "output_type": "execute_result"
    }
   ],
   "source": [
    "downstream_vertices = grid.find_downstream_vertices(1)\n",
    "downstream_vertices"
   ]
  },
  {
   "cell_type": "markdown",
   "metadata": {},
   "source": [
    "## Finding alternative edges\n",
    "Args:\n",
    "- disabled_edge_id (int): The ID of the edge to be disabled.\n",
    "\n",
    "Returns:\n",
    "- List[int]: A list of alternative edge IDs.\n",
    "\n",
    "### Working principle:\n",
    "- a list of ORIGINALLY disabled edges is created\n",
    "- errors are checked and empty output list is initialised\n",
    "- a list of UPDATED disabled edges is made with disabled_edge_id considered\n",
    "- a list of edges is created: the list(zip()) functions pair each edge_id with the corresponding vertex pair and status-enables/disabled\n",
    "-  a new list is made where disabled_edge_id considered (it becomes disabled)\n",
    "-  the ORIGINALLY disabled edges are taken one by one (while loop). For each iteration, the edge is now ENABLED \"temporarily\" and a new graph is made. This graph is then checked for cyclicity and completeness. If satisfactory, the ORIGINALLY disabled index is added to the output list alt_list[]\n",
    "- after iterations end, the output list is printed"
   ]
  },
  {
   "cell_type": "code",
   "execution_count": 85,
   "metadata": {},
   "outputs": [
    {
     "data": {
      "text/plain": [
       "[7]"
      ]
     },
     "execution_count": 85,
     "metadata": {},
     "output_type": "execute_result"
    },
    {
     "data": {
      "image/png": "[encoded data removed]",
      "text/plain": [
       "<Figure size 640x480 with 1 Axes>"
      ]
     },
     "metadata": {},
     "output_type": "display_data"
    }
   ],
   "source": [
    "alternative_edges = grid.find_alternative_edges(1)\n",
    "alternative_edges"
   ]
  },
  {
   "cell_type": "markdown",
   "metadata": {},
   "source": [
    "# Large Powergrid\n",
    "now we have seen how a small graph can be created, a large powergrid is loaded for the following sections."
   ]
  },
  {
   "cell_type": "code",
   "execution_count": null,
   "metadata": {},
   "outputs": [],
   "source": []
  },
  {
   "cell_type": "markdown",
   "metadata": {},
   "source": [
    "## Powergrid power calculations:\n",
    "- Analyze power flow on the given power grid network using provided active and reactive power profile data.\n",
    "\n",
    "function: \n",
    "- calculate_power_grid()\n",
    "\n",
    "Args:\n",
    "- input_network_data (Dict): Input network data in JSON format.\n",
    "- active_power_profile_path (str): Path to the parquet file containing active power profile data.\n",
    "- reactive_power_profile_path (str): Path to the parquet file containing reactive power profile data.\n",
    "\n",
    "Returns:\n",
    "- Dict: Aggregated power flow results containing voltage statistics and line loading information.\n",
    "\n",
    "### Working Principle:\n",
    "- Load input network data\n",
    "- Validate input data\n",
    "- Load active and reactive power profiles\n",
    "- Check if timestamps and load IDs match\n",
    "- Create PGM batch update dataset\n",
    "- Validate batch data\n",
    "- Run power flow calculations\n",
    "- Aggregating voltage results\n",
    "- Aggregating line loading results\n",
    "- Create DataFrame for voltage results\n",
    "- Create DataFrame for line results\n",
    "- Return aggregated results"
   ]
  },
  {
   "cell_type": "code",
   "execution_count": 86,
   "metadata": {},
   "outputs": [
    {
     "data": {
      "text/html": [
       "<div>\n",
       "<style scoped>\n",
       "    .dataframe tbody tr th:only-of-type {\n",
       "        vertical-align: middle;\n",
       "    }\n",
       "\n",
       "    .dataframe tbody tr th {\n",
       "        vertical-align: top;\n",
       "    }\n",
       "\n",
       "    .dataframe thead th {\n",
       "        text-align: right;\n",
       "    }\n",
       "</style>\n",
       "<table border=\"1\" class=\"dataframe\">\n",
       "  <thead>\n",
       "    <tr style=\"text-align: right;\">\n",
       "      <th></th>\n",
       "      <th>Max_Voltage</th>\n",
       "      <th>Max_Voltage_Node</th>\n",
       "      <th>Min_Voltage</th>\n",
       "      <th>Min_Voltage_Node</th>\n",
       "    </tr>\n",
       "    <tr>\n",
       "      <th>Timestamp</th>\n",
       "      <th></th>\n",
       "      <th></th>\n",
       "      <th></th>\n",
       "      <th></th>\n",
       "    </tr>\n",
       "  </thead>\n",
       "  <tbody>\n",
       "    <tr>\n",
       "      <th>2025-01-01 00:00:00</th>\n",
       "      <td>1.072931</td>\n",
       "      <td>1</td>\n",
       "      <td>1.049819</td>\n",
       "      <td>0</td>\n",
       "    </tr>\n",
       "    <tr>\n",
       "      <th>2025-01-01 00:15:00</th>\n",
       "      <td>1.075911</td>\n",
       "      <td>1</td>\n",
       "      <td>1.050022</td>\n",
       "      <td>0</td>\n",
       "    </tr>\n",
       "    <tr>\n",
       "      <th>2025-01-01 00:30:00</th>\n",
       "      <td>1.069725</td>\n",
       "      <td>1</td>\n",
       "      <td>1.049603</td>\n",
       "      <td>0</td>\n",
       "    </tr>\n",
       "    <tr>\n",
       "      <th>2025-01-01 00:45:00</th>\n",
       "      <td>1.073244</td>\n",
       "      <td>1</td>\n",
       "      <td>1.049842</td>\n",
       "      <td>0</td>\n",
       "    </tr>\n",
       "    <tr>\n",
       "      <th>2025-01-01 01:00:00</th>\n",
       "      <td>1.072924</td>\n",
       "      <td>1</td>\n",
       "      <td>1.049819</td>\n",
       "      <td>0</td>\n",
       "    </tr>\n",
       "    <tr>\n",
       "      <th>...</th>\n",
       "      <td>...</td>\n",
       "      <td>...</td>\n",
       "      <td>...</td>\n",
       "      <td>...</td>\n",
       "    </tr>\n",
       "    <tr>\n",
       "      <th>2025-01-10 22:45:00</th>\n",
       "      <td>1.071457</td>\n",
       "      <td>1</td>\n",
       "      <td>1.049730</td>\n",
       "      <td>0</td>\n",
       "    </tr>\n",
       "    <tr>\n",
       "      <th>2025-01-10 23:00:00</th>\n",
       "      <td>1.075341</td>\n",
       "      <td>1</td>\n",
       "      <td>1.049993</td>\n",
       "      <td>0</td>\n",
       "    </tr>\n",
       "    <tr>\n",
       "      <th>2025-01-10 23:15:00</th>\n",
       "      <td>1.072623</td>\n",
       "      <td>1</td>\n",
       "      <td>1.049803</td>\n",
       "      <td>0</td>\n",
       "    </tr>\n",
       "    <tr>\n",
       "      <th>2025-01-10 23:30:00</th>\n",
       "      <td>1.071624</td>\n",
       "      <td>1</td>\n",
       "      <td>1.049741</td>\n",
       "      <td>0</td>\n",
       "    </tr>\n",
       "    <tr>\n",
       "      <th>2025-01-10 23:45:00</th>\n",
       "      <td>1.076290</td>\n",
       "      <td>1</td>\n",
       "      <td>1.050056</td>\n",
       "      <td>0</td>\n",
       "    </tr>\n",
       "  </tbody>\n",
       "</table>\n",
       "<p>960 rows × 4 columns</p>\n",
       "</div>"
      ],
      "text/plain": [
       "                     Max_Voltage  Max_Voltage_Node  Min_Voltage  \\\n",
       "Timestamp                                                         \n",
       "2025-01-01 00:00:00     1.072931                 1     1.049819   \n",
       "2025-01-01 00:15:00     1.075911                 1     1.050022   \n",
       "2025-01-01 00:30:00     1.069725                 1     1.049603   \n",
       "2025-01-01 00:45:00     1.073244                 1     1.049842   \n",
       "2025-01-01 01:00:00     1.072924                 1     1.049819   \n",
       "...                          ...               ...          ...   \n",
       "2025-01-10 22:45:00     1.071457                 1     1.049730   \n",
       "2025-01-10 23:00:00     1.075341                 1     1.049993   \n",
       "2025-01-10 23:15:00     1.072623                 1     1.049803   \n",
       "2025-01-10 23:30:00     1.071624                 1     1.049741   \n",
       "2025-01-10 23:45:00     1.076290                 1     1.050056   \n",
       "\n",
       "                     Min_Voltage_Node  \n",
       "Timestamp                              \n",
       "2025-01-01 00:00:00                 0  \n",
       "2025-01-01 00:15:00                 0  \n",
       "2025-01-01 00:30:00                 0  \n",
       "2025-01-01 00:45:00                 0  \n",
       "2025-01-01 01:00:00                 0  \n",
       "...                               ...  \n",
       "2025-01-10 22:45:00                 0  \n",
       "2025-01-10 23:00:00                 0  \n",
       "2025-01-10 23:15:00                 0  \n",
       "2025-01-10 23:30:00                 0  \n",
       "2025-01-10 23:45:00                 0  \n",
       "\n",
       "[960 rows x 4 columns]"
      ]
     },
     "execution_count": 86,
     "metadata": {},
     "output_type": "execute_result"
    }
   ],
   "source": [
    "from src.power_system_simulation.calculation_module import (\n",
    "    calculate_power_grid,\n",
    ")\n",
    "\n",
    "voltage_results, line_results = calculate_power_grid(\n",
    "        input_network, active_power_profile, reactive_power_profile\n",
    ")\n",
    "voltage_results"
   ]
  },
  {
   "cell_type": "code",
   "execution_count": 87,
   "metadata": {},
   "outputs": [
    {
     "name": "stdout",
     "output_type": "stream",
     "text": [
      "Line Results:\n"
     ]
    },
    {
     "data": {
      "text/html": [
       "<div>\n",
       "<style scoped>\n",
       "    .dataframe tbody tr th:only-of-type {\n",
       "        vertical-align: middle;\n",
       "    }\n",
       "\n",
       "    .dataframe tbody tr th {\n",
       "        vertical-align: top;\n",
       "    }\n",
       "\n",
       "    .dataframe thead th {\n",
       "        text-align: right;\n",
       "    }\n",
       "</style>\n",
       "<table border=\"1\" class=\"dataframe\">\n",
       "  <thead>\n",
       "    <tr style=\"text-align: right;\">\n",
       "      <th></th>\n",
       "      <th>Total_Loss</th>\n",
       "      <th>Max_Loading</th>\n",
       "      <th>Max_Loading_Timestamp</th>\n",
       "      <th>Min_Loading</th>\n",
       "      <th>Min_Loading_Timestamp</th>\n",
       "    </tr>\n",
       "    <tr>\n",
       "      <th>Line_ID</th>\n",
       "      <th></th>\n",
       "      <th></th>\n",
       "      <th></th>\n",
       "      <th></th>\n",
       "      <th></th>\n",
       "    </tr>\n",
       "  </thead>\n",
       "  <tbody>\n",
       "    <tr>\n",
       "      <th>16</th>\n",
       "      <td>26.709511</td>\n",
       "      <td>6.869324e-05</td>\n",
       "      <td>2025-01-04 06:30:00</td>\n",
       "      <td>1.253601e-05</td>\n",
       "      <td>2025-01-08 12:30:00</td>\n",
       "    </tr>\n",
       "    <tr>\n",
       "      <th>17</th>\n",
       "      <td>1.128073</td>\n",
       "      <td>1.653650e-03</td>\n",
       "      <td>2025-01-04 09:45:00</td>\n",
       "      <td>2.697708e-04</td>\n",
       "      <td>2025-01-08 11:30:00</td>\n",
       "    </tr>\n",
       "    <tr>\n",
       "      <th>18</th>\n",
       "      <td>9.100636</td>\n",
       "      <td>3.414478e-05</td>\n",
       "      <td>2025-01-07 10:45:00</td>\n",
       "      <td>5.617314e-06</td>\n",
       "      <td>2025-01-05 17:45:00</td>\n",
       "    </tr>\n",
       "    <tr>\n",
       "      <th>19</th>\n",
       "      <td>1.220324</td>\n",
       "      <td>1.543576e-03</td>\n",
       "      <td>2025-01-07 10:45:00</td>\n",
       "      <td>2.496785e-04</td>\n",
       "      <td>2025-01-05 17:45:00</td>\n",
       "    </tr>\n",
       "    <tr>\n",
       "      <th>20</th>\n",
       "      <td>27.361620</td>\n",
       "      <td>7.086133e-05</td>\n",
       "      <td>2025-01-07 10:45:00</td>\n",
       "      <td>1.172002e-05</td>\n",
       "      <td>2025-01-02 14:30:00</td>\n",
       "    </tr>\n",
       "    <tr>\n",
       "      <th>21</th>\n",
       "      <td>1.132925</td>\n",
       "      <td>1.658966e-03</td>\n",
       "      <td>2025-01-07 10:30:00</td>\n",
       "      <td>2.550110e-04</td>\n",
       "      <td>2025-01-02 14:30:00</td>\n",
       "    </tr>\n",
       "    <tr>\n",
       "      <th>22</th>\n",
       "      <td>8.584028</td>\n",
       "      <td>3.876018e-05</td>\n",
       "      <td>2025-01-07 10:45:00</td>\n",
       "      <td>5.715455e-06</td>\n",
       "      <td>2025-01-02 12:30:00</td>\n",
       "    </tr>\n",
       "    <tr>\n",
       "      <th>23</th>\n",
       "      <td>1.345700</td>\n",
       "      <td>1.500068e-03</td>\n",
       "      <td>2025-01-07 10:45:00</td>\n",
       "      <td>2.202110e-04</td>\n",
       "      <td>2025-01-02 12:30:00</td>\n",
       "    </tr>\n",
       "    <tr>\n",
       "      <th>24</th>\n",
       "      <td>2.725758</td>\n",
       "      <td>2.452007e-07</td>\n",
       "      <td>2025-01-10 21:15:00</td>\n",
       "      <td>2.418978e-07</td>\n",
       "      <td>2025-01-04 09:45:00</td>\n",
       "    </tr>\n",
       "  </tbody>\n",
       "</table>\n",
       "</div>"
      ],
      "text/plain": [
       "         Total_Loss   Max_Loading Max_Loading_Timestamp   Min_Loading  \\\n",
       "Line_ID                                                                 \n",
       "16        26.709511  6.869324e-05   2025-01-04 06:30:00  1.253601e-05   \n",
       "17         1.128073  1.653650e-03   2025-01-04 09:45:00  2.697708e-04   \n",
       "18         9.100636  3.414478e-05   2025-01-07 10:45:00  5.617314e-06   \n",
       "19         1.220324  1.543576e-03   2025-01-07 10:45:00  2.496785e-04   \n",
       "20        27.361620  7.086133e-05   2025-01-07 10:45:00  1.172002e-05   \n",
       "21         1.132925  1.658966e-03   2025-01-07 10:30:00  2.550110e-04   \n",
       "22         8.584028  3.876018e-05   2025-01-07 10:45:00  5.715455e-06   \n",
       "23         1.345700  1.500068e-03   2025-01-07 10:45:00  2.202110e-04   \n",
       "24         2.725758  2.452007e-07   2025-01-10 21:15:00  2.418978e-07   \n",
       "\n",
       "        Min_Loading_Timestamp  \n",
       "Line_ID                        \n",
       "16        2025-01-08 12:30:00  \n",
       "17        2025-01-08 11:30:00  \n",
       "18        2025-01-05 17:45:00  \n",
       "19        2025-01-05 17:45:00  \n",
       "20        2025-01-02 14:30:00  \n",
       "21        2025-01-02 14:30:00  \n",
       "22        2025-01-02 12:30:00  \n",
       "23        2025-01-02 12:30:00  \n",
       "24        2025-01-04 09:45:00  "
      ]
     },
     "execution_count": 87,
     "metadata": {},
     "output_type": "execute_result"
    }
   ],
   "source": [
    "print(\"Line Results:\")\n",
    "line_results"
   ]
  },
  {
   "cell_type": "markdown",
   "metadata": {},
   "source": [
    "## Finding an optimal tap position"
   ]
  },
  {
   "cell_type": "markdown",
   "metadata": {},
   "source": [
    "## EV penetration level "
   ]
  },
  {
   "cell_type": "markdown",
   "metadata": {},
   "source": [
    "## N-1 calculation"
   ]
  }
 ],
 "metadata": {
  "kernelspec": {
   "display_name": ".venv",
   "language": "python",
   "name": "python3"
  },
  "language_info": {
   "codemirror_mode": {
    "name": "ipython",
    "version": 3
   },
   "file_extension": ".py",
   "mimetype": "text/x-python",
   "name": "python",
   "nbconvert_exporter": "python",
   "pygments_lexer": "ipython3",
   "version": "3.11.7"
  }
 },
 "nbformat": 4,
 "nbformat_minor": 2
}
