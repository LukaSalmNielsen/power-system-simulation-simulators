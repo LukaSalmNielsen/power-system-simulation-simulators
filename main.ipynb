{
 "cells": [
  {
   "cell_type": "code",
   "execution_count": 11,
   "metadata": {},
   "outputs": [
    {
     "name": "stdout",
     "output_type": "stream",
     "text": [
      "hallo\n"
     ]
    },
    {
     "ename": "TypeError",
     "evalue": "power_system_simulation.__init__() missing 3 required positional arguments: 'active_power_profile_path', 'reactive_power_profile_path', and 'ev_active_power_profile'",
     "output_type": "error",
     "traceback": [
      "\u001b[1;31m---------------------------------------------------------------------------\u001b[0m",
      "\u001b[1;31mTypeError\u001b[0m                                 Traceback (most recent call last)",
      "Cell \u001b[1;32mIn[11], line 1\u001b[0m\n\u001b[1;32m----> 1\u001b[0m \u001b[38;5;28;01mfrom\u001b[39;00m \u001b[38;5;21;01msrc\u001b[39;00m\u001b[38;5;21;01m.\u001b[39;00m\u001b[38;5;21;01mpower_system_simulation\u001b[39;00m \u001b[38;5;28;01mimport\u001b[39;00m power_system_simulation\n\u001b[0;32m      3\u001b[0m metadata \u001b[38;5;241m=\u001b[39m \u001b[38;5;124m\"\u001b[39m\u001b[38;5;124msrc/data/input/new_test_data/input/meta_data.json\u001b[39m\u001b[38;5;124m\"\u001b[39m\n\u001b[0;32m      4\u001b[0m input_network \u001b[38;5;241m=\u001b[39m \u001b[38;5;124m\"\u001b[39m\u001b[38;5;124msrc/data/input/new_test_data/input/input_network_data.json\u001b[39m\u001b[38;5;124m\"\u001b[39m\n",
      "File \u001b[1;32mc:\\Users\\luka\\OneDrive\\Uni_storage\\Q4\\4XWG0\\power-system-simulation-simulators\\src\\power_system_simulation\\power_system_simulation.py:99\u001b[0m\n\u001b[0;32m     93\u001b[0m                 \u001b[38;5;28;01mraise\u001b[39;00m NotAllFeederIDsareValid(\u001b[38;5;124m\"\u001b[39m\u001b[38;5;124mnot all feeders corrospond to a line\u001b[39m\u001b[38;5;124m\"\u001b[39m)\n\u001b[0;32m     95\u001b[0m         voltage_results, line_results \u001b[38;5;241m=\u001b[39m calculate_power_grid(\n\u001b[0;32m     96\u001b[0m             input_network_data, active_power_profile_path, reactive_power_profile_path\n\u001b[0;32m     97\u001b[0m         )\n\u001b[1;32m---> 99\u001b[0m \u001b[43mpower_system_simulation\u001b[49m\u001b[43m(\u001b[49m\u001b[38;5;124;43m\"\u001b[39;49m\u001b[38;5;124;43mmeta_data.json\u001b[39;49m\u001b[38;5;124;43m\"\u001b[39;49m\u001b[43m)\u001b[49m\n",
      "\u001b[1;31mTypeError\u001b[0m: power_system_simulation.__init__() missing 3 required positional arguments: 'active_power_profile_path', 'reactive_power_profile_path', and 'ev_active_power_profile'"
     ]
    }
   ],
   "source": [
    "from src.power_system_simulation import power_system_simulation\n",
    "\n",
    "metadata = \"src/data/input/new_test_data/input/meta_data.json\"\n",
    "input_network = \"src/data/input/new_test_data/input/input_network_data.json\"\n",
    "active_power_profile = \"src/data/input/new_test_data/input/active_power_profile.parquet\"\n",
    "reactive_power_profile = \"src/data/input/new_test_data/input/reactive_power_profile.parquet\"\n",
    "ev_active_power_profile = \"src/data/input/new_test_data/input/ev_active_power_profile.parquet\"\n",
    "\n",
    "power_system_simulation.__init__(input_network, metadata, active_power_profile, reactive_power_profile,ev_active_power_profile)"
   ]
  },
  {
   "cell_type": "code",
   "execution_count": null,
   "metadata": {},
   "outputs": [],
   "source": []
  }
 ],
 "metadata": {
  "kernelspec": {
   "display_name": ".venv",
   "language": "python",
   "name": "python3"
  },
  "language_info": {
   "codemirror_mode": {
    "name": "ipython",
    "version": 3
   },
   "file_extension": ".py",
   "mimetype": "text/x-python",
   "name": "python",
   "nbconvert_exporter": "python",
   "pygments_lexer": "ipython3",
   "version": "3.12.3"
  }
 },
 "nbformat": 4,
 "nbformat_minor": 2
}
