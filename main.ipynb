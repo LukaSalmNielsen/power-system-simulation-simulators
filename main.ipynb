{
 "cells": [
  {
   "cell_type": "markdown",
   "metadata": {},
   "source": [
    "Presentation Notebook for The **Simulators**\n",
    "\n",
    "The first step to using our package is to validate the contents.\n",
    "This function called **validate_power_system_simulation** will ensure that the input data is compatible with **all** of the functionalities of this package and throw an exception if it doesn't. \n",
    "\n",
    "all possible exceptions not included in the base **Power_Grid_model** package are:\n",
    "- TimestampsDoNotMatchError\n",
    "- LoadIdsDoNotMatchError\n",
    "- IDNotFoundError\n",
    "- InputLengthDoesNotMatchError\n",
    "- IDNotUniqueError\n",
    "- GraphNotFullyConnectedError\n",
    "- GraphCycleError\n",
    "- EdgeAlreadyDisabledError\n",
    "- TooManyTransformers\n",
    "- TooManySources\n",
    "- NotAllFeederIDsareValid\n",
    "- TransformerAndFeedersNotConnected\n",
    "- TooFewEVs\n",
    "  \n",
    "These exceptions each come with an explanation of the issue which is needed to ensure that none of the data will fail in the rest of the function. However the actual check may take a long time with larger input data sizes to potentially quite a long time."
   ]
  },
  {
   "cell_type": "markdown",
   "metadata": {},
   "source": [
    "First step to using this package will always be defining the location of the input files and data"
   ]
  },
  {
   "cell_type": "code",
   "execution_count": 6,
   "metadata": {},
   "outputs": [
    {
     "data": {
      "text/plain": [
       "<src.power_system_simulation.validate_power_system_simulation.validate_power_system_simulation at 0x190ffcf4710>"
      ]
     },
     "execution_count": 6,
     "metadata": {},
     "output_type": "execute_result"
    }
   ],
   "source": [
    "from pathlib import Path\n",
    "\n",
    "from src.power_system_simulation import calculation_module as calc\n",
    "from src.power_system_simulation import validate_power_system_simulation as validate\n",
    "DATA_PATH = Path.cwd() / \"tests\" / \"data\" / \"Exception_test_data\"\n",
    "\n",
    "metadata = DATA_PATH / \"meta_data.json\"\n",
    "input_network = DATA_PATH / \"input_network_data.json\"\n",
    "active_power_profile = DATA_PATH / \"active_power_profile.parquet\"\n",
    "reactive_power_profile = DATA_PATH / \"reactive_power_profile.parquet\"\n",
    "ev_active_power_profile = DATA_PATH / \"ev_active_power_profile.parquet\""
   ]
  },
  {
   "cell_type": "markdown",
   "metadata": {},
   "source": [
    "Next The validate function is called which checks for all the possible errors visible in the top section"
   ]
  },
  {
   "cell_type": "code",
   "execution_count": null,
   "metadata": {},
   "outputs": [],
   "source": [
    "validate.validate_power_system_simulation(input_network, metadata, active_power_profile, reactive_power_profile,ev_active_power_profile)"
   ]
  },
  {
   "cell_type": "markdown",
   "metadata": {},
   "source": [
    "Next the various functions of the package include: \n",
    "- making a graph\n",
    "- visualizing a graph \n",
    "- finding a downstream vertice\n",
    "- finding alternative edges\n",
    "- finding an optimal tap position\n",
    "- Powergrid power calculations \n",
    "- "
   ]
  },
  {
   "cell_type": "code",
   "execution_count": null,
   "metadata": {},
   "outputs": [],
   "source": []
  }
 ],
 "metadata": {
  "kernelspec": {
   "display_name": ".venv",
   "language": "python",
   "name": "python3"
  },
  "language_info": {
   "codemirror_mode": {
    "name": "ipython",
    "version": 3
   },
   "file_extension": ".py",
   "mimetype": "text/x-python",
   "name": "python",
   "nbconvert_exporter": "python",
   "pygments_lexer": "ipython3",
   "version": "3.12.3"
  }
 },
 "nbformat": 4,
 "nbformat_minor": 2
}
